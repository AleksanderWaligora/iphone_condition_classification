{
 "cells": [
  {
   "cell_type": "code",
   "execution_count": 3,
   "id": "7af7dbda-0348-4000-91e5-679d010a389a",
   "metadata": {},
   "outputs": [
    {
     "data": {
      "text/html": [
       "<div>\n",
       "<style scoped>\n",
       "    .dataframe tbody tr th:only-of-type {\n",
       "        vertical-align: middle;\n",
       "    }\n",
       "\n",
       "    .dataframe tbody tr th {\n",
       "        vertical-align: top;\n",
       "    }\n",
       "\n",
       "    .dataframe thead th {\n",
       "        text-align: right;\n",
       "    }\n",
       "</style>\n",
       "<table border=\"1\" class=\"dataframe\">\n",
       "  <thead>\n",
       "    <tr style=\"text-align: right;\">\n",
       "      <th></th>\n",
       "      <th>Name</th>\n",
       "      <th>Seller</th>\n",
       "      <th>Condition</th>\n",
       "      <th>Price</th>\n",
       "      <th>Shipping Cost</th>\n",
       "      <th>Shipping Country</th>\n",
       "      <th>Free Return</th>\n",
       "      <th>Last Item</th>\n",
       "      <th>Best Seller</th>\n",
       "      <th>Buy Now</th>\n",
       "      <th>Generation</th>\n",
       "    </tr>\n",
       "  </thead>\n",
       "  <tbody>\n",
       "    <tr>\n",
       "      <th>0</th>\n",
       "      <td>Apple iPhone 13 - 128GB - spacegrey (bez simlo...</td>\n",
       "      <td>prywatny</td>\n",
       "      <td>Używany</td>\n",
       "      <td>576,33</td>\n",
       "      <td>62,32</td>\n",
       "      <td>Niemcy</td>\n",
       "      <td>False</td>\n",
       "      <td>False</td>\n",
       "      <td>False</td>\n",
       "      <td>False</td>\n",
       "      <td>13</td>\n",
       "    </tr>\n",
       "    <tr>\n",
       "      <th>1</th>\n",
       "      <td>Apple iPhone 12 - 64GB</td>\n",
       "      <td>prywatny</td>\n",
       "      <td>Używany</td>\n",
       "      <td>950,00</td>\n",
       "      <td>0</td>\n",
       "      <td>Polska</td>\n",
       "      <td>False</td>\n",
       "      <td>False</td>\n",
       "      <td>False</td>\n",
       "      <td>False</td>\n",
       "      <td>12</td>\n",
       "    </tr>\n",
       "    <tr>\n",
       "      <th>2</th>\n",
       "      <td>iPhone 12 Czerwony 64GB Produkt Czerwony Odblo...</td>\n",
       "      <td>firma</td>\n",
       "      <td>Używany</td>\n",
       "      <td>4,95</td>\n",
       "      <td>74,01</td>\n",
       "      <td>Wielka Brytania</td>\n",
       "      <td>False</td>\n",
       "      <td>False</td>\n",
       "      <td>False</td>\n",
       "      <td>False</td>\n",
       "      <td>12</td>\n",
       "    </tr>\n",
       "    <tr>\n",
       "      <th>3</th>\n",
       "      <td>Pakiet 6 iPhone 12 / X / 7 / 6s / 6S Plus z bl...</td>\n",
       "      <td>firma</td>\n",
       "      <td>Tylko na części</td>\n",
       "      <td>19,35</td>\n",
       "      <td>64,30</td>\n",
       "      <td>Niemcy</td>\n",
       "      <td>False</td>\n",
       "      <td>False</td>\n",
       "      <td>False</td>\n",
       "      <td>False</td>\n",
       "      <td>12</td>\n",
       "    </tr>\n",
       "    <tr>\n",
       "      <th>4</th>\n",
       "      <td>iphone 11 128gb</td>\n",
       "      <td>prywatny</td>\n",
       "      <td>Tylko na części</td>\n",
       "      <td>200,00</td>\n",
       "      <td>0</td>\n",
       "      <td>Polska</td>\n",
       "      <td>False</td>\n",
       "      <td>False</td>\n",
       "      <td>False</td>\n",
       "      <td>False</td>\n",
       "      <td>11</td>\n",
       "    </tr>\n",
       "    <tr>\n",
       "      <th>...</th>\n",
       "      <td>...</td>\n",
       "      <td>...</td>\n",
       "      <td>...</td>\n",
       "      <td>...</td>\n",
       "      <td>...</td>\n",
       "      <td>...</td>\n",
       "      <td>...</td>\n",
       "      <td>...</td>\n",
       "      <td>...</td>\n",
       "      <td>...</td>\n",
       "      <td>...</td>\n",
       "    </tr>\n",
       "    <tr>\n",
       "      <th>951</th>\n",
       "      <td>Apple iPhone 4 -GB nieznany- Czarny (Trzy) A13...</td>\n",
       "      <td>prywatny</td>\n",
       "      <td>Używany</td>\n",
       "      <td>49,43</td>\n",
       "      <td>75,96</td>\n",
       "      <td>Wielka Brytania</td>\n",
       "      <td>False</td>\n",
       "      <td>False</td>\n",
       "      <td>False</td>\n",
       "      <td>False</td>\n",
       "      <td>4</td>\n",
       "    </tr>\n",
       "    <tr>\n",
       "      <th>952</th>\n",
       "      <td>Apple iPhone 12 128GB czarny niebieski zielony...</td>\n",
       "      <td>firma</td>\n",
       "      <td>Używany</td>\n",
       "      <td>898,83</td>\n",
       "      <td>107,80</td>\n",
       "      <td>Stany Zjednoczone</td>\n",
       "      <td>False</td>\n",
       "      <td>False</td>\n",
       "      <td>True</td>\n",
       "      <td>False</td>\n",
       "      <td>12</td>\n",
       "    </tr>\n",
       "    <tr>\n",
       "      <th>953</th>\n",
       "      <td>Apple iPhone 8 części</td>\n",
       "      <td>prywatny</td>\n",
       "      <td>Tylko na części</td>\n",
       "      <td>199,90</td>\n",
       "      <td>164,87</td>\n",
       "      <td>Wielka Brytania</td>\n",
       "      <td>False</td>\n",
       "      <td>False</td>\n",
       "      <td>False</td>\n",
       "      <td>False</td>\n",
       "      <td>8</td>\n",
       "    </tr>\n",
       "    <tr>\n",
       "      <th>954</th>\n",
       "      <td>Apple iPhone 5 - 16GB - czarny i łupkowy (odbl...</td>\n",
       "      <td>prywatny</td>\n",
       "      <td>Używany</td>\n",
       "      <td>149,93</td>\n",
       "      <td>73,02</td>\n",
       "      <td>Wielka Brytania</td>\n",
       "      <td>False</td>\n",
       "      <td>False</td>\n",
       "      <td>False</td>\n",
       "      <td>False</td>\n",
       "      <td>5</td>\n",
       "    </tr>\n",
       "    <tr>\n",
       "      <th>955</th>\n",
       "      <td>Apple iPhone 7 Plus 256GB diamentowy czarny iO...</td>\n",
       "      <td>firma</td>\n",
       "      <td>Odnowiony</td>\n",
       "      <td>817,14</td>\n",
       "      <td>38,67</td>\n",
       "      <td>Niemcy</td>\n",
       "      <td>True</td>\n",
       "      <td>True</td>\n",
       "      <td>True</td>\n",
       "      <td>True</td>\n",
       "      <td>7</td>\n",
       "    </tr>\n",
       "  </tbody>\n",
       "</table>\n",
       "<p>956 rows × 11 columns</p>\n",
       "</div>"
      ],
      "text/plain": [
       "                                                  Name      Seller  \\\n",
       "0    Apple iPhone 13 - 128GB - spacegrey (bez simlo...    prywatny   \n",
       "1                               Apple iPhone 12 - 64GB    prywatny   \n",
       "2    iPhone 12 Czerwony 64GB Produkt Czerwony Odblo...       firma   \n",
       "3    Pakiet 6 iPhone 12 / X / 7 / 6s / 6S Plus z bl...       firma   \n",
       "4                                      iphone 11 128gb    prywatny   \n",
       "..                                                 ...         ...   \n",
       "951  Apple iPhone 4 -GB nieznany- Czarny (Trzy) A13...    prywatny   \n",
       "952  Apple iPhone 12 128GB czarny niebieski zielony...       firma   \n",
       "953                              Apple iPhone 8 części    prywatny   \n",
       "954  Apple iPhone 5 - 16GB - czarny i łupkowy (odbl...    prywatny   \n",
       "955  Apple iPhone 7 Plus 256GB diamentowy czarny iO...       firma   \n",
       "\n",
       "            Condition    Price Shipping Cost    Shipping Country  Free Return  \\\n",
       "0            Używany   576,33          62,32              Niemcy        False   \n",
       "1            Używany   950,00              0              Polska        False   \n",
       "2            Używany     4,95          74,01     Wielka Brytania        False   \n",
       "3    Tylko na części    19,35          64,30              Niemcy        False   \n",
       "4    Tylko na części   200,00              0              Polska        False   \n",
       "..                ...      ...           ...                 ...          ...   \n",
       "951          Używany    49,43          75,96     Wielka Brytania        False   \n",
       "952          Używany   898,83         107,80   Stany Zjednoczone        False   \n",
       "953  Tylko na części   199,90         164,87     Wielka Brytania        False   \n",
       "954          Używany   149,93          73,02     Wielka Brytania        False   \n",
       "955        Odnowiony   817,14          38,67              Niemcy         True   \n",
       "\n",
       "     Last Item  Best Seller  Buy Now Generation  \n",
       "0        False        False    False         13  \n",
       "1        False        False    False         12  \n",
       "2        False        False    False         12  \n",
       "3        False        False    False         12  \n",
       "4        False        False    False         11  \n",
       "..         ...          ...      ...        ...  \n",
       "951      False        False    False          4  \n",
       "952      False         True    False         12  \n",
       "953      False        False    False          8  \n",
       "954      False        False    False          5  \n",
       "955       True         True     True          7  \n",
       "\n",
       "[956 rows x 11 columns]"
      ]
     },
     "execution_count": 3,
     "metadata": {},
     "output_type": "execute_result"
    }
   ],
   "source": [
    "import pandas as pd\n",
    "df =pd.read_csv(\"ebay_iphone_uncleaned.csv\")\n",
    "df"
   ]
  },
  {
   "cell_type": "code",
   "execution_count": 2,
   "id": "0f6eafc6-c972-4778-8321-6a64c82e34e1",
   "metadata": {},
   "outputs": [
    {
     "data": {
      "text/html": [
       "<div>\n",
       "<style scoped>\n",
       "    .dataframe tbody tr th:only-of-type {\n",
       "        vertical-align: middle;\n",
       "    }\n",
       "\n",
       "    .dataframe tbody tr th {\n",
       "        vertical-align: top;\n",
       "    }\n",
       "\n",
       "    .dataframe thead th {\n",
       "        text-align: right;\n",
       "    }\n",
       "</style>\n",
       "<table border=\"1\" class=\"dataframe\">\n",
       "  <thead>\n",
       "    <tr style=\"text-align: right;\">\n",
       "      <th></th>\n",
       "      <th>Name</th>\n",
       "      <th>Seller</th>\n",
       "      <th>Condition</th>\n",
       "      <th>Price</th>\n",
       "      <th>Shipping Cost</th>\n",
       "      <th>Shipping Country</th>\n",
       "      <th>Free Return</th>\n",
       "      <th>Last Item</th>\n",
       "      <th>Best Seller</th>\n",
       "      <th>Buy Now</th>\n",
       "      <th>Generation</th>\n",
       "    </tr>\n",
       "  </thead>\n",
       "  <tbody>\n",
       "  </tbody>\n",
       "</table>\n",
       "</div>"
      ],
      "text/plain": [
       "Empty DataFrame\n",
       "Columns: [Name, Seller, Condition, Price, Shipping Cost, Shipping Country, Free Return, Last Item, Best Seller, Buy Now, Generation]\n",
       "Index: []"
      ]
     },
     "execution_count": 2,
     "metadata": {},
     "output_type": "execute_result"
    }
   ],
   "source": [
    "df.loc[df.Seller=='prywatny']"
   ]
  },
  {
   "cell_type": "markdown",
   "id": "e38a1aa8-15cb-46eb-aa71-ae101da1451c",
   "metadata": {},
   "source": [
    "### Poprawa danych"
   ]
  },
  {
   "cell_type": "code",
   "execution_count": 39,
   "id": "dd6eae97-0989-44ac-abe5-ab583cf93c00",
   "metadata": {},
   "outputs": [
    {
     "name": "stdout",
     "output_type": "stream",
     "text": [
      "<class 'pandas.core.frame.DataFrame'>\n",
      "RangeIndex: 956 entries, 0 to 955\n",
      "Data columns (total 11 columns):\n",
      " #   Column            Non-Null Count  Dtype \n",
      "---  ------            --------------  ----- \n",
      " 0   Name              956 non-null    object\n",
      " 1   Seller            956 non-null    object\n",
      " 2   Condition         956 non-null    object\n",
      " 3   Price             956 non-null    object\n",
      " 4   Shipping Cost     956 non-null    object\n",
      " 5   Shipping Country  956 non-null    object\n",
      " 6   Free Return       956 non-null    bool  \n",
      " 7   Last Item         956 non-null    bool  \n",
      " 8   Best Seller       956 non-null    bool  \n",
      " 9   Buy Now           956 non-null    bool  \n",
      " 10  Generation        940 non-null    object\n",
      "dtypes: bool(4), object(7)\n",
      "memory usage: 56.1+ KB\n"
     ]
    }
   ],
   "source": [
    "df.info()\n",
    "df[\"Seller\"]= df[\"Seller\"].astype('category')\n",
    "df[\"Condition\"]= df[\"Condition\"].astype('category')\n",
    "df[\"Shipping Country\"]= df[\"Shipping Country\"].astype('category')\n",
    "df[\"Shipping Cost\"]=df[\"Shipping Cost\"].apply(lambda x : \"0\" if x in \"Bezpłatna wysyłka za granicę\" else x)\n",
    "df[\"Generation\"]= df[\"Generation\"].astype('category')"
   ]
  },
  {
   "cell_type": "code",
   "execution_count": 40,
   "id": "302e311c-a35a-45d3-b54e-1c34162faa8a",
   "metadata": {},
   "outputs": [],
   "source": [
    "df[\"Shipping Cost\"]=df[\"Shipping Cost\"].str.replace(\" \",\"\")\n",
    "df[\"Shipping Cost\"]=df[\"Shipping Cost\"].apply(lambda x : \"0\" if x ==\"Kosztwysyłkiniezostałpodany\" else x)\n",
    "df[\"Shipping Cost\"]=df[\"Shipping Cost\"].str.replace(\",\",\".\").replace(\" \",\"\").replace(\"\\t\",\"\").astype(float)\n",
    "\n",
    "df[\"Price\"]=df[\"Price\"].str.replace(\",\",\".\")"
   ]
  },
  {
   "cell_type": "code",
   "execution_count": 41,
   "id": "027a04d0-95af-41b1-8cc7-5baeb851f4e6",
   "metadata": {},
   "outputs": [],
   "source": [
    "import regex as re\n",
    "df[\"Price\"]=df[\"Price\"].apply(lambda x : x.split(\"do\")[0] if re.search('[a-zA-Z]',x) else x)\n",
    "df[\"Price\"]=df[\"Price\"].str.replace(\" \",\"\")\n",
    "df[\"Price\"]=df[\"Price\"].str.replace(\",\",\".\")\n",
    "df[\"Price\"]=df[\"Price\"].astype(float)"
   ]
  },
  {
   "cell_type": "code",
   "execution_count": 42,
   "id": "492245f6-03a5-42af-9f96-80d7ea1c521a",
   "metadata": {},
   "outputs": [
    {
     "data": {
      "text/plain": [
       "12          180\n",
       "11          151\n",
       "se           77\n",
       "13           74\n",
       "xr           56\n",
       "xs           41\n",
       "7            41\n",
       "15           41\n",
       "6s           38\n",
       "5            35\n",
       "6            33\n",
       "8            31\n",
       "14           23\n",
       "4s           16\n",
       "4            16\n",
       "x            14\n",
       "5s           13\n",
       "1.           10\n",
       "5c            7\n",
       "3gs           5\n",
       "3g            4\n",
       "11,           4\n",
       "6s,           2\n",
       "specimen      2\n",
       "-             2\n",
       "ze            2\n",
       "6,            1\n",
       "5,            1\n",
       "xs,           1\n",
       "12,           1\n",
       "xr,           1\n",
       "128gb         1\n",
       "x/xs          1\n",
       "13,           1\n",
       "13-           1\n",
       "se2022        1\n",
       "1st           1\n",
       "partia        1\n",
       "ipod          1\n",
       "at&t          1\n",
       "8-            1\n",
       "8,            1\n",
       "2g            1\n",
       "7-            1\n",
       "7,            1\n",
       "4/5/6         1\n",
       "6s-128gb      1\n",
       "6+,           1\n",
       "Name: Generation, dtype: int64"
      ]
     },
     "execution_count": 42,
     "metadata": {},
     "output_type": "execute_result"
    }
   ],
   "source": [
    "df[\"Generation\"].value_counts()"
   ]
  },
  {
   "cell_type": "markdown",
   "id": "0ca4384c-200b-4eea-aa6e-92fc2c5018db",
   "metadata": {},
   "source": [
    "### Poprawa nazw generacji"
   ]
  },
  {
   "cell_type": "code",
   "execution_count": 43,
   "id": "e80a1f6b-aee0-4140-b0d1-bc7230a5ab7b",
   "metadata": {},
   "outputs": [],
   "source": [
    "import numpy as np\n",
    "df[\"Generation\"]=df[\"Generation\"].apply(lambda x: str(x).split(\",\")[0])\n",
    "df[\"Generation\"]=df[\"Generation\"].apply(lambda x: str(x).replace(\".\",\"\").replace(\"-\",\"\"))\n",
    "df.loc[df[\"Generation\"] == \"\",[\"Generation\"]] = None"
   ]
  },
  {
   "cell_type": "code",
   "execution_count": 44,
   "id": "0d825213-2f6e-4350-b961-e1a1e61a0ced",
   "metadata": {},
   "outputs": [
    {
     "data": {
      "text/plain": [
       "12          181\n",
       "11          155\n",
       "se           77\n",
       "13           76\n",
       "xr           57\n",
       "7            43\n",
       "xs           42\n",
       "15           41\n",
       "6s           40\n",
       "5            36\n",
       "6            34\n",
       "8            33\n",
       "14           23\n",
       "4            16\n",
       "4s           16\n",
       "nan          16\n",
       "x            14\n",
       "5s           13\n",
       "1            10\n",
       "5c            7\n",
       "3gs           5\n",
       "3g            4\n",
       "ze            2\n",
       "specimen      2\n",
       "se2022        1\n",
       "6s128gb       1\n",
       "partia        1\n",
       "x/xs          1\n",
       "6+            1\n",
       "at&t          1\n",
       "128gb         1\n",
       "ipod          1\n",
       "2g            1\n",
       "4/5/6         1\n",
       "1st           1\n",
       "Name: Generation, dtype: int64"
      ]
     },
     "execution_count": 44,
     "metadata": {},
     "output_type": "execute_result"
    }
   ],
   "source": [
    "df[\"Generation\"].value_counts()"
   ]
  },
  {
   "cell_type": "markdown",
   "id": "cc5d405f-8f11-46fa-9b7a-f5ef66e2f0ef",
   "metadata": {},
   "source": [
    "### Zajęcie się brakującymi wartościami"
   ]
  },
  {
   "cell_type": "code",
   "execution_count": 45,
   "id": "b1062088-9496-41f7-9eeb-f58020a60324",
   "metadata": {},
   "outputs": [],
   "source": [
    "import numpy as np\n",
    "df.isna().sum()\n",
    "df.dropna(inplace=True)"
   ]
  },
  {
   "cell_type": "markdown",
   "id": "b5d4c43d-5537-446d-92d7-28158c53452d",
   "metadata": {},
   "source": [
    "## Usuwnie odstających wierszy"
   ]
  },
  {
   "cell_type": "markdown",
   "id": "b21bc2aa-28d2-45b1-8457-11aa20e0176f",
   "metadata": {},
   "source": [
    "### Usuwanie obserwacji z generacją występującą tylko 1 raz"
   ]
  },
  {
   "cell_type": "code",
   "execution_count": 46,
   "id": "35eaba61-5f2e-4fa9-a5c0-2b887525a5fd",
   "metadata": {},
   "outputs": [
    {
     "data": {
      "text/plain": [
       "12          181\n",
       "11          155\n",
       "se           77\n",
       "13           76\n",
       "xr           57\n",
       "7            43\n",
       "xs           42\n",
       "15           41\n",
       "6s           40\n",
       "5            36\n",
       "6            34\n",
       "8            33\n",
       "14           23\n",
       "nan          16\n",
       "4            16\n",
       "4s           16\n",
       "x            14\n",
       "5s           13\n",
       "1            10\n",
       "5c            7\n",
       "3gs           5\n",
       "3g            4\n",
       "ze            2\n",
       "specimen      2\n",
       "Name: Generation, dtype: int64"
      ]
     },
     "execution_count": 46,
     "metadata": {},
     "output_type": "execute_result"
    }
   ],
   "source": [
    "x =  df[\"Generation\"].value_counts()\n",
    "x =x[ x.values ==1].index.to_list()\n",
    "index_to_drop=df[df[\"Generation\"].isin(x)].index\n",
    "df.drop(index_to_drop,inplace=True)\n",
    "df[\"Generation\"].value_counts()"
   ]
  },
  {
   "cell_type": "markdown",
   "id": "e6b48b5e-dff8-46be-a1bd-f79271c6c53a",
   "metadata": {},
   "source": [
    "### Usuwanie obserwacji z krajem występującą tylko 1 raz"
   ]
  },
  {
   "cell_type": "code",
   "execution_count": 47,
   "id": "ecb78f2f-db62-4067-86fb-4fd82410d6d3",
   "metadata": {},
   "outputs": [],
   "source": [
    "x =  df[\"Shipping Country\"].value_counts()\n",
    "x =x[ x.values ==1].index.to_list()\n",
    "index_to_drop=df[df[\"Shipping Country\"].isin(x)].index\n",
    "df.drop(index_to_drop,inplace=True)"
   ]
  },
  {
   "cell_type": "markdown",
   "id": "8c43ba38-e39a-4225-96a5-60c220921bf5",
   "metadata": {},
   "source": [
    "### Zastąpenie wartości Ceny i Kosztu wysyłki odstających średnią"
   ]
  },
  {
   "cell_type": "code",
   "execution_count": 48,
   "id": "71b65f4b-8460-4793-bd04-c1e00d4d9fbd",
   "metadata": {},
   "outputs": [],
   "source": [
    "z = ((abs(df[\"Price\"]-df[\"Price\"].mean())/df[\"Price\"].std()) > 3)\n",
    "index_to_drop = z[z == True].index\n",
    "index_to_change=index_to_drop.to_list()\n",
    "df.loc[index_to_change,[\"Price\"]] = df[\"Price\"].mean()"
   ]
  },
  {
   "cell_type": "code",
   "execution_count": 49,
   "id": "4a1cd053-7f86-4f79-a227-3103b9dc46fb",
   "metadata": {},
   "outputs": [],
   "source": [
    "z = ((abs(df[\"Shipping Cost\"]-df[\"Shipping Cost\"].mean())/df[\"Shipping Cost\"].std()) > 3)\n",
    "index_to_drop = z[z == True].index\n",
    "index_to_change=index_to_drop.to_list()\n",
    "df.loc[index_to_change,[\"Shipping Cost\"]] =df[\"Shipping Cost\"].mean()"
   ]
  },
  {
   "cell_type": "markdown",
   "id": "a85a1b66-856b-4a40-952c-26357774b134",
   "metadata": {},
   "source": [
    "### Zapisanie do pliku"
   ]
  },
  {
   "cell_type": "code",
   "execution_count": 50,
   "id": "53612d48-21ba-4609-bf24-63de49052595",
   "metadata": {},
   "outputs": [],
   "source": [
    "df.to_csv(\"ebay_iphone.csv\",index=False)"
   ]
  },
  {
   "cell_type": "code",
   "execution_count": null,
   "id": "87d94b86-30ba-4a22-9778-bd0dd0a4750e",
   "metadata": {},
   "outputs": [],
   "source": [
    "df"
   ]
  }
 ],
 "metadata": {
  "kernelspec": {
   "display_name": "Python 3",
   "language": "python",
   "name": "python3"
  },
  "language_info": {
   "codemirror_mode": {
    "name": "ipython",
    "version": 3
   },
   "file_extension": ".py",
   "mimetype": "text/x-python",
   "name": "python",
   "nbconvert_exporter": "python",
   "pygments_lexer": "ipython3",
   "version": "3.12.0"
  }
 },
 "nbformat": 4,
 "nbformat_minor": 5
}
